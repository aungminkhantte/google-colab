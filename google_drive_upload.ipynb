{
  "nbformat": 4,
  "nbformat_minor": 0,
  "metadata": {
    "colab": {
      "name": "google-drive-upload.ipynb",
      "provenance": [],
      "authorship_tag": "ABX9TyP0+SaOof0VuKO4fjsqYJHI",
      "include_colab_link": true
    },
    "kernelspec": {
      "name": "python3",
      "display_name": "Python 3"
    }
  },
  "cells": [
    {
      "cell_type": "markdown",
      "metadata": {
        "id": "view-in-github",
        "colab_type": "text"
      },
      "source": [
        "<a href=\"https://colab.research.google.com/github/aungminkhantte/google-colab/blob/main/google_drive_upload.ipynb\" target=\"_parent\"><img src=\"https://colab.research.google.com/assets/colab-badge.svg\" alt=\"Open In Colab\"/></a>"
      ]
    },
    {
      "cell_type": "code",
      "metadata": {
        "id": "4N4esH2r0z4e"
      },
      "source": [
        "from google.colab import drive\r\n",
        "drive.mount('/content/drive')"
      ],
      "execution_count": null,
      "outputs": []
    },
    {
      "cell_type": "code",
      "metadata": {
        "id": "BLbg6VgF09SM"
      },
      "source": [
        "import os\r\n",
        "os.chdir(\"/content/drive/MyDrive\")\r\n",
        "!wget -c \"download link\" --no-check-certificate"
      ],
      "execution_count": null,
      "outputs": []
    }
  ]
}